{
 "cells": [
  {
   "cell_type": "code",
   "execution_count": 1,
   "metadata": {},
   "outputs": [],
   "source": [
    "# prepare the environment\n",
    "\n",
    "#for data\n",
    "import numpy as np\n",
    "import pandas as pd\n",
    "\n",
    "#for plotting\n",
    "import matplotlib.pyplot as plt\n",
    "import seaborn as sns\n",
    "\n",
    "#for statistical test\n",
    "import scipy\n",
    "import statsmodels.formula.api as smf\n",
    "import statsmodels.api as sm\n",
    "\n",
    "#for machine learning\n",
    "from sklearn import model_selection, preprocessing, feature_selection, ensemble, linear_model, metrics, decomposition\n",
    "\n",
    "#for explainer\n",
    "from lime import lime_tabular"
   ]
  },
  {
   "cell_type": "code",
   "execution_count": 2,
   "metadata": {},
   "outputs": [
    {
     "data": {
      "text/html": [
       "<div>\n",
       "<style scoped>\n",
       "    .dataframe tbody tr th:only-of-type {\n",
       "        vertical-align: middle;\n",
       "    }\n",
       "\n",
       "    .dataframe tbody tr th {\n",
       "        vertical-align: top;\n",
       "    }\n",
       "\n",
       "    .dataframe thead th {\n",
       "        text-align: right;\n",
       "    }\n",
       "</style>\n",
       "<table border=\"1\" class=\"dataframe\">\n",
       "  <thead>\n",
       "    <tr style=\"text-align: right;\">\n",
       "      <th></th>\n",
       "      <th>PassengerId</th>\n",
       "      <th>Survived</th>\n",
       "      <th>Pclass</th>\n",
       "      <th>Name</th>\n",
       "      <th>Sex</th>\n",
       "      <th>Age</th>\n",
       "      <th>SibSp</th>\n",
       "      <th>Parch</th>\n",
       "      <th>Ticket</th>\n",
       "      <th>Fare</th>\n",
       "      <th>Cabin</th>\n",
       "      <th>Embarked</th>\n",
       "    </tr>\n",
       "  </thead>\n",
       "  <tbody>\n",
       "    <tr>\n",
       "      <th>0</th>\n",
       "      <td>1</td>\n",
       "      <td>0</td>\n",
       "      <td>3</td>\n",
       "      <td>Braund, Mr. Owen Harris</td>\n",
       "      <td>male</td>\n",
       "      <td>22.0</td>\n",
       "      <td>1</td>\n",
       "      <td>0</td>\n",
       "      <td>A/5 21171</td>\n",
       "      <td>7.2500</td>\n",
       "      <td>NaN</td>\n",
       "      <td>S</td>\n",
       "    </tr>\n",
       "    <tr>\n",
       "      <th>1</th>\n",
       "      <td>2</td>\n",
       "      <td>1</td>\n",
       "      <td>1</td>\n",
       "      <td>Cumings, Mrs. John Bradley (Florence Briggs Th...</td>\n",
       "      <td>female</td>\n",
       "      <td>38.0</td>\n",
       "      <td>1</td>\n",
       "      <td>0</td>\n",
       "      <td>PC 17599</td>\n",
       "      <td>71.2833</td>\n",
       "      <td>C85</td>\n",
       "      <td>C</td>\n",
       "    </tr>\n",
       "    <tr>\n",
       "      <th>2</th>\n",
       "      <td>3</td>\n",
       "      <td>1</td>\n",
       "      <td>3</td>\n",
       "      <td>Heikkinen, Miss. Laina</td>\n",
       "      <td>female</td>\n",
       "      <td>26.0</td>\n",
       "      <td>0</td>\n",
       "      <td>0</td>\n",
       "      <td>STON/O2. 3101282</td>\n",
       "      <td>7.9250</td>\n",
       "      <td>NaN</td>\n",
       "      <td>S</td>\n",
       "    </tr>\n",
       "    <tr>\n",
       "      <th>3</th>\n",
       "      <td>4</td>\n",
       "      <td>1</td>\n",
       "      <td>1</td>\n",
       "      <td>Futrelle, Mrs. Jacques Heath (Lily May Peel)</td>\n",
       "      <td>female</td>\n",
       "      <td>35.0</td>\n",
       "      <td>1</td>\n",
       "      <td>0</td>\n",
       "      <td>113803</td>\n",
       "      <td>53.1000</td>\n",
       "      <td>C123</td>\n",
       "      <td>S</td>\n",
       "    </tr>\n",
       "    <tr>\n",
       "      <th>4</th>\n",
       "      <td>5</td>\n",
       "      <td>0</td>\n",
       "      <td>3</td>\n",
       "      <td>Allen, Mr. William Henry</td>\n",
       "      <td>male</td>\n",
       "      <td>35.0</td>\n",
       "      <td>0</td>\n",
       "      <td>0</td>\n",
       "      <td>373450</td>\n",
       "      <td>8.0500</td>\n",
       "      <td>NaN</td>\n",
       "      <td>S</td>\n",
       "    </tr>\n",
       "  </tbody>\n",
       "</table>\n",
       "</div>"
      ],
      "text/plain": [
       "   PassengerId  Survived  Pclass  \\\n",
       "0            1         0       3   \n",
       "1            2         1       1   \n",
       "2            3         1       3   \n",
       "3            4         1       1   \n",
       "4            5         0       3   \n",
       "\n",
       "                                                Name     Sex   Age  SibSp  \\\n",
       "0                            Braund, Mr. Owen Harris    male  22.0      1   \n",
       "1  Cumings, Mrs. John Bradley (Florence Briggs Th...  female  38.0      1   \n",
       "2                             Heikkinen, Miss. Laina  female  26.0      0   \n",
       "3       Futrelle, Mrs. Jacques Heath (Lily May Peel)  female  35.0      1   \n",
       "4                           Allen, Mr. William Henry    male  35.0      0   \n",
       "\n",
       "   Parch            Ticket     Fare Cabin Embarked  \n",
       "0      0         A/5 21171   7.2500   NaN        S  \n",
       "1      0          PC 17599  71.2833   C85        C  \n",
       "2      0  STON/O2. 3101282   7.9250   NaN        S  \n",
       "3      0            113803  53.1000  C123        S  \n",
       "4      0            373450   8.0500   NaN        S  "
      ]
     },
     "execution_count": 2,
     "metadata": {},
     "output_type": "execute_result"
    }
   ],
   "source": [
    "##read the data\n",
    "df=pd.read_csv('./titanic/train.csv')\n",
    "df.head()"
   ]
  },
  {
   "cell_type": "code",
   "execution_count": 3,
   "metadata": {},
   "outputs": [],
   "source": [
    "#identify data is categorical or numerical\n",
    "def find_cat(df, col, max_cat=20):\n",
    "    if (df[col].dtype == 'O') | (df[col].nunique() < max_cat):\n",
    "        return \"cat\"\n",
    "    else:\n",
    "        return \"num\""
   ]
  },
  {
   "cell_type": "code",
   "execution_count": 4,
   "metadata": {},
   "outputs": [
    {
     "data": {
      "text/plain": [
       "{'PassengerId': 'num',\n",
       " 'Survived': 'cat',\n",
       " 'Pclass': 'cat',\n",
       " 'Name': 'cat',\n",
       " 'Sex': 'cat',\n",
       " 'Age': 'num',\n",
       " 'SibSp': 'cat',\n",
       " 'Parch': 'cat',\n",
       " 'Ticket': 'cat',\n",
       " 'Fare': 'num',\n",
       " 'Cabin': 'cat',\n",
       " 'Embarked': 'cat'}"
      ]
     },
     "execution_count": 4,
     "metadata": {},
     "output_type": "execute_result"
    }
   ],
   "source": [
    "dic_cols=dict()\n",
    "for col in df.columns:\n",
    "    tipe=find_cat(df, col, max_cat=20)\n",
    "    dic_cols.update({col:tipe})\n",
    "dic_cols"
   ]
  },
  {
   "cell_type": "code",
   "execution_count": 5,
   "metadata": {},
   "outputs": [
    {
     "data": {
      "image/png": "[encoded data removed]",
      "text/plain": [
       "<Figure size 432x288 with 2 Axes>"
      ]
     },
     "metadata": {
      "needs_background": "light"
     },
     "output_type": "display_data"
    },
    {
     "name": "stdout",
     "output_type": "stream",
     "text": [
      "\u001b[1;37;40m Categorical \u001b[1;37;41m Numeric \u001b[1;30;47m Nan\n"
     ]
    }
   ],
   "source": [
    "#visualize the proportion cateogorical, numerical and Nan of the dataset using heatmap\n",
    "\n",
    "#analyze Nan value\n",
    "heatmap=df.isnull()\n",
    "\n",
    "for k, v in dic_cols.items():\n",
    "    if v == 'num':\n",
    "        heatmap[k]=heatmap[k].apply(lambda x: 0.5 if x is False else 1)\n",
    "    else:\n",
    "        heatmap[k]=heatmap[k].apply(lambda x: 0 if x is False else 1)\n",
    "\n",
    "sns.heatmap(heatmap, cbar=True).set_title('Dataset overview')\n",
    "plt.show()\n",
    "print('\\033[1;37;40m Categorical', '\\033[1;37;41m Numeric', '\\033[1;30;47m Nan')\n"
   ]
  },
  {
   "cell_type": "code",
   "execution_count": 6,
   "metadata": {},
   "outputs": [],
   "source": [
    "# set passenger id as primary key or index\n",
    "df=df.set_index(df['PassengerId'])\n",
    "\n",
    "#set survived column as y because its parameter we want to know\n",
    "df=df.rename(columns={'Survived':'Y'})\n"
   ]
  },
  {
   "cell_type": "code",
   "execution_count": 7,
   "metadata": {},
   "outputs": [
    {
     "data": {
      "image/png": "[encoded data removed]",
      "text/plain": [
       "<Figure size 432x288 with 1 Axes>"
      ]
     },
     "metadata": {
      "needs_background": "light"
     },
     "output_type": "display_data"
    }
   ],
   "source": [
    "#visualize univariate distribution\n",
    "y= 'Y'\n",
    "ax=df[y].value_counts().sort_values().plot(kind='barh')\n",
    "totals=[]\n",
    "for i in ax.patches:\n",
    "    totals.append(i.get_width())\n",
    "total=sum(totals)\n",
    "for i in ax.patches:\n",
    "    ax.text(i.get_width()+.3, i.get_y()+.2, str(round((i.get_width()/total)*100, 2))+'%', fontsize=10, color='black')\n",
    "ax.grid(axis='x')\n",
    "plt.suptitle('Y distribution')\n",
    "plt.show()"
   ]
  },
  {
   "cell_type": "code",
   "execution_count": 8,
   "metadata": {},
   "outputs": [
    {
     "name": "stderr",
     "output_type": "stream",
     "text": [
      "/home/edi/.local/lib/python3.7/site-packages/seaborn/distributions.py:2551: FutureWarning: `distplot` is a deprecated function and will be removed in a future version. Please adapt your code to use either `displot` (a figure-level function with similar flexibility) or `histplot` (an axes-level function for histograms).\n",
      "  warnings.warn(msg, FutureWarning)\n"
     ]
    },
    {
     "data": {
      "image/png": "[encoded data removed]",
      "text/plain": [
       "<Figure size 432x288 with 2 Axes>"
      ]
     },
     "metadata": {
      "needs_background": "light"
     },
     "output_type": "display_data"
    }
   ],
   "source": [
    "x='Age'\n",
    "\n",
    "fig, ax=plt.subplots(nrows=1, ncols=2, sharex=False, sharey=False)\n",
    "fig.suptitle(x, fontsize=20)\n",
    "\n",
    "## distribution\n",
    "ax[0].title.set_text('distribution')\n",
    "variable=df[x].fillna(df[x].mean())\n",
    "breaks=np.quantile(variable, q=np.linspace(0, 1, 11))\n",
    "variable= variable[(variable>breaks[0]) & (variable<breaks[10])]\n",
    "sns.distplot(variable, hist=True, kde=True, kde_kws={'shade':True}, ax=ax[0])\n",
    "des=df[x].describe()\n",
    "ax[0].axvline(des['25%'], ls='--')\n",
    "ax[0].axvline(des['mean'], ls='--')\n",
    "ax[0].axvline(des['75%'], ls='--')\n",
    "des=round(des, 2).apply(lambda x: str(x))\n",
    "box='\\n'.join(('min:'+des['min'], '25% :'+des['25%'], 'mean :'+des['mean'], '75% :'+des['75%'], 'max :'+des['max']))\n",
    "ax[0].text(0.95, 0.95, box, transform=ax[0].transAxes, fontsize=10, va='top', ha='right', bbox=dict(boxstyle='round'\n",
    "                                                                                                   , facecolor='white'\n",
    "                                                                                                   , alpha=1))\n",
    "\n",
    "## boxplot\n",
    "ax[1].title.set_text('outlier (log scale)')\n",
    "tmp_df=pd.DataFrame(df[x])\n",
    "tmp_df[x]=np.log(tmp_df[x])\n",
    "tmp_df.boxplot(column=x, ax=ax[1])\n",
    "\n",
    "plt.show()\n"
   ]
  },
  {
   "cell_type": "code",
   "execution_count": 37,
   "metadata": {},
   "outputs": [
    {
     "name": "stderr",
     "output_type": "stream",
     "text": [
      "/home/edi/.local/lib/python3.7/site-packages/seaborn/distributions.py:2551: FutureWarning: `distplot` is a deprecated function and will be removed in a future version. Please adapt your code to use either `displot` (a figure-level function with similar flexibility) or `kdeplot` (an axes-level function for kernel density plots).\n",
      "  warnings.warn(msg, FutureWarning)\n",
      "/home/edi/.local/lib/python3.7/site-packages/seaborn/distributions.py:2551: FutureWarning: `distplot` is a deprecated function and will be removed in a future version. Please adapt your code to use either `displot` (a figure-level function with similar flexibility) or `kdeplot` (an axes-level function for kernel density plots).\n",
      "  warnings.warn(msg, FutureWarning)\n"
     ]
    },
    {
     "data": {
      "image/png": "[encoded data removed]",
      "text/plain": [
       "<Figure size 432x288 with 2 Axes>"
      ]
     },
     "metadata": {
      "needs_background": "light"
     },
     "output_type": "display_data"
    }
   ],
   "source": [
    "cat, num= 'Y', 'Age'\n",
    "fig, ax=plt.subplots(nrows=1, ncols=2, sharex=False, sharey=False)\n",
    "#fig.suptitle(x+\" vs \"+y, fontsize=20)\n",
    "##distribution\n",
    "ax[0].title.set_text('density')\n",
    "for i in df[cat].unique():\n",
    "    sns.distplot(df[df[cat]==i][num], hist=False, label=i, ax=ax[0])\n",
    "ax[0].grid(True)\n",
    "\n",
    "##boxplot\n",
    "ax[1].title.set_text('outliers')\n",
    "sns.boxplot(x=cat, y=num, data=df, ax=ax[1])\n",
    "ax[1].grid(True)\n",
    "\n",
    "plt.show()\n"
   ]
  },
  {
   "cell_type": "code",
   "execution_count": 10,
   "metadata": {},
   "outputs": [
    {
     "name": "stdout",
     "output_type": "stream",
     "text": [
      "The variables are correlated (p-value :0.039)\n"
     ]
    }
   ],
   "source": [
    "## ANOVA testing\n",
    "\n",
    "cat, num= 'Y', 'Age'\n",
    "\n",
    "model = smf.ols(num+' ~ '+cat, data=df).fit()\n",
    "table=sm.stats.anova_lm(model)\n",
    "p=table['PR(>F)'][0]\n",
    "coeff, p= None, round(p, 3)\n",
    "if p < 0.05:\n",
    "    print('The variables are correlated','(p-value :{})'.format(p))\n",
    "else:\n",
    "    print('The variables are not correlated', '(p-value :{})'.format(p))"
   ]
  },
  {
   "cell_type": "code",
   "execution_count": 35,
   "metadata": {},
   "outputs": [
    {
     "data": {
      "image/png": "[encoded data removed]",
      "text/plain": [
       "<Figure size 432x288 with 2 Axes>"
      ]
     },
     "metadata": {
      "needs_background": "light"
     },
     "output_type": "display_data"
    },
    {
     "name": "stdout",
     "output_type": "stream",
     "text": [
      "<class 'pandas.core.frame.DataFrame'>\n"
     ]
    }
   ],
   "source": [
    "## analisis categorical vs categorical \n",
    "\n",
    "x, y='Sex', 'Y'\n",
    "\n",
    "fig, ax=plt.subplots(nrows=1, ncols=2, sharex=False, sharey=False)\n",
    "fig.suptitle(x+' vs '+y, fontsize=20)\n",
    "\n",
    "##count\n",
    "ax[0].title.set_text('count')\n",
    "order=df.groupby(x)[y].count().index.tolist()\n",
    "sns.countplot(x=x, hue=y, data=df,  order=order, ax=ax[0])\n",
    "ax[0].grid(True)\n",
    "\n",
    "##percentage\n",
    "ax[1].title.set_text('percentage')\n",
    "a=df.groupby(x)[y].count().reset_index()\n",
    "a=a.rename(columns={y:'tot'})\n",
    "b=df.groupby([x, y])[y].count()\n",
    "b=pd.DataFrame(b)\n",
    "b = b.rename(columns={'Y':0}).reset_index()\n",
    "b=b.merge(a, how='left')\n",
    "b['%']=(b[0]/b['tot'])*100\n",
    "sns.barplot(x=x, y='%', hue=y, data=b,ax=ax[1]).get_legend().remove()\n",
    "ax[1].grid(True)\n",
    "\n",
    "plt.show()\n"
   ]
  },
  {
   "cell_type": "code",
   "execution_count": 47,
   "metadata": {},
   "outputs": [
    {
     "name": "stdout",
     "output_type": "stream",
     "text": [
      "Y         0    1\n",
      "Sex             \n",
      "female   81  233\n",
      "male    468  109\n",
      "chi2 value : 260.71702016732104\n",
      "p-value : 1.1973570627755645e-58\n"
     ]
    }
   ],
   "source": [
    "## uji chisquare\n",
    "x, y = 'Sex', 'Y'\n",
    "\n",
    "cont_table=pd.crosstab(index=df[x], columns=df[y])\n",
    "print(cont_table)\n",
    "chi2_test=scipy.stats.chi2_contingency(cont_table)\n",
    "chi2, p=chi2_test[0], chi2_test[1]\n",
    "print('chi2 value : {}'.format(chi2))\n",
    "print('p-value : {}'.format(p))\n",
    "n=cont_table.sum().sum()\n",
    "phi2=chi2/n\n",
    "ro, col=cont_table.shape\n",
    "phi2corr=max(0, phi2-((col-1)*(ro-1)/(n-1)))"
   ]
  },
  {
   "cell_type": "code",
   "execution_count": null,
   "metadata": {},
   "outputs": [],
   "source": []
  }
 ],
 "metadata": {
  "kernelspec": {
   "display_name": "Python 3",
   "language": "python",
   "name": "python3"
  },
  "language_info": {
   "codemirror_mode": {
    "name": "ipython",
    "version": 3
   },
   "file_extension": ".py",
   "mimetype": "text/x-python",
   "name": "python",
   "nbconvert_exporter": "python",
   "pygments_lexer": "ipython3",
   "version": "3.7.3"
  }
 },
 "nbformat": 4,
 "nbformat_minor": 4
}
